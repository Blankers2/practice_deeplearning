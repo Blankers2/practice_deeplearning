{
  "cells": [
    {
      "cell_type": "markdown",
      "metadata": {
        "id": "iveP8QHcj7yP"
      },
      "source": [
        "#### 딥러닝 프레임웍 로드"
      ]
    },
    {
      "cell_type": "code",
      "execution_count": null,
      "metadata": {
        "colab": {
          "base_uri": "https://localhost:8080/",
          "height": 35
        },
        "id": "QwedYiZMkA5K",
        "outputId": "fe8f6f79-0620-4034-fdc6-a66b9d77a478"
      },
      "outputs": [
        {
          "data": {
            "application/vnd.google.colaboratory.intrinsic+json": {
              "type": "string"
            },
            "text/plain": [
              "'2.15.0'"
            ]
          },
          "execution_count": 32,
          "metadata": {},
          "output_type": "execute_result"
        }
      ],
      "source": [
        "import tensorflow as tf\n",
        "import tensorflow.keras as keras\n",
        "\n",
        "tf.__version__"
      ]
    },
    {
      "cell_type": "code",
      "execution_count": null,
      "metadata": {
        "colab": {
          "base_uri": "https://localhost:8080/",
          "height": 35
        },
        "id": "yBuNjEQkj5_1",
        "outputId": "59f99737-e7ef-49c9-b417-ee656225c1e9"
      },
      "outputs": [
        {
          "data": {
            "application/vnd.google.colaboratory.intrinsic+json": {
              "type": "string"
            },
            "text/plain": [
              "'tensorflow'"
            ]
          },
          "execution_count": 33,
          "metadata": {},
          "output_type": "execute_result"
        }
      ],
      "source": [
        "# 백엔드 엔진 확인\n",
        "# 백엔드가 교체되면 성능등 방식이 달라질수 있음\n",
        "keras.backend.backend()"
      ]
    },
    {
      "cell_type": "markdown",
      "metadata": {
        "id": "CdT0eU6CRZkN"
      },
      "source": [
        "# 데이터 수집/획득"
      ]
    },
    {
      "cell_type": "code",
      "execution_count": null,
      "metadata": {
        "id": "m9iwgjm1kroY"
      },
      "outputs": [],
      "source": [
        "from tensorflow.keras.datasets import mnist"
      ]
    },
    {
      "cell_type": "code",
      "execution_count": null,
      "metadata": {
        "colab": {
          "base_uri": "https://localhost:8080/"
        },
        "id": "_C-NOygVky4c",
        "outputId": "7e05efea-3070-4e91-9e54-283aedcf629e"
      },
      "outputs": [
        {
          "data": {
            "text/plain": [
              "((60000, 28, 28), (60000,), (10000, 28, 28), (10000,))"
            ]
          },
          "execution_count": 35,
          "metadata": {},
          "output_type": "execute_result"
        }
      ],
      "source": [
        "# 데이터획득, 훈련용, 테스트용으로 자동분류\n",
        "(X_train, y_train), (X_test, y_test) = mnist.load_data()\n",
        "\n",
        "# (60000, 28, 28), (60000,)\n",
        "# (10000, 28, 28), (10000,)\n",
        "X_train.shape, y_train.shape, X_test.shape, y_test.shape"
      ]
    },
    {
      "cell_type": "code",
      "execution_count": null,
      "metadata": {
        "colab": {
          "base_uri": "https://localhost:8080/"
        },
        "id": "D41lbOHelfSB",
        "outputId": "cf39dc45-f544-4f12-e91d-f5d17d160559"
      },
      "outputs": [
        {
          "data": {
            "text/plain": [
              "numpy.ndarray"
            ]
          },
          "execution_count": 36,
          "metadata": {},
          "output_type": "execute_result"
        }
      ],
      "source": [
        "type(X_train)"
      ]
    },
    {
      "cell_type": "markdown",
      "metadata": {
        "id": "YPJfCkwRRXzI"
      },
      "source": [
        "# 데이터 준비"
      ]
    },
    {
      "cell_type": "code",
      "execution_count": null,
      "metadata": {
        "colab": {
          "base_uri": "https://localhost:8080/"
        },
        "id": "zQTzQxhyleV7",
        "outputId": "c573eaf1-acdc-461f-e570-a437426f4cb9"
      },
      "outputs": [
        {
          "data": {
            "text/plain": [
              "array([[[0, 0, 0, 0, 0, 0, 0, 0, 0, 0, 0, 0, 0, 0, 0, 0, 0, 0, 0, 0, 0,\n",
              "         0, 0, 0, 0, 0, 0, 0]]], dtype=uint8)"
            ]
          },
          "execution_count": 37,
          "metadata": {},
          "output_type": "execute_result"
        }
      ],
      "source": [
        "# 데이터 확인\n",
        "# 데이터는 배열, 값 -> 픽셀 -> 피처로 인식\n",
        "# 0 ~ 255값으로 예측, QnA : df로 구성해서 확인가능, min(), max() 확인가능함\n",
        "X_train[ :1, :1, :]"
      ]
    },
    {
      "cell_type": "code",
      "execution_count": null,
      "metadata": {
        "colab": {
          "base_uri": "https://localhost:8080/",
          "height": 35
        },
        "id": "bQpqkETAmHbx",
        "outputId": "a22c003f-7a89-4fac-92c0-7be5f4789235"
      },
      "outputs": [
        {
          "data": {
            "application/vnd.google.colaboratory.intrinsic+json": {
              "type": "string"
            },
            "text/plain": [
              "'channels_last'"
            ]
          },
          "execution_count": 38,
          "metadata": {},
          "output_type": "execute_result"
        }
      ],
      "source": [
        "# 포멧 확인 -> channel first|last\n",
        "fmt = keras.backend.image_data_format()\n",
        "# channels_last => (N, H, W, C) 형태로 데이터 구성\n",
        "fmt"
      ]
    },
    {
      "cell_type": "code",
      "execution_count": null,
      "metadata": {
        "colab": {
          "base_uri": "https://localhost:8080/"
        },
        "id": "Qpj-gfhcmd97",
        "outputId": "5bd9e0c2-d798-4c07-f380-40e6e5786252"
      },
      "outputs": [
        {
          "data": {
            "text/plain": [
              "(0, 255)"
            ]
          },
          "execution_count": 39,
          "metadata": {},
          "output_type": "execute_result"
        }
      ],
      "source": [
        "# 필요시 정규화 진행 -> 0.0 ~ 1.0 사이로 값변환\n",
        "import numpy as np\n",
        "\n",
        "np.min(X_train), np.max(X_train)"
      ]
    },
    {
      "cell_type": "code",
      "execution_count": null,
      "metadata": {
        "colab": {
          "base_uri": "https://localhost:8080/"
        },
        "id": "oIWs_JuumycJ",
        "outputId": "e18f696f-22ec-47f9-8605-920c6d3f8db3"
      },
      "outputs": [
        {
          "data": {
            "text/plain": [
              "(0.0, 1.0, 0.0, 1.0)"
            ]
          },
          "execution_count": 40,
          "metadata": {},
          "output_type": "execute_result"
        }
      ],
      "source": [
        "# X_train, X_test 0.0 ~ 1.0 사이 조정\n",
        "# 실습 30초\n",
        "X_train = X_train/ np.max(X_train)\n",
        "X_test  = X_test / np.max(X_test)\n",
        "\n",
        "np.min(X_train), np.max(X_train), np.min(X_test), np.max(X_test)"
      ]
    },
    {
      "cell_type": "markdown",
      "metadata": {
        "id": "7XXTIaixRX15"
      },
      "source": [
        "# 데이터 분석(생략)"
      ]
    },
    {
      "cell_type": "markdown",
      "metadata": {
        "id": "QNNXthLTRXbw"
      },
      "source": [
        "# 모델 구축(딥러닝)"
      ]
    },
    {
      "cell_type": "markdown",
      "metadata": {
        "id": "t_F87CEAneE1"
      },
      "source": [
        "## 훈련/학습에 필요한 상수 정의"
      ]
    },
    {
      "cell_type": "code",
      "execution_count": null,
      "metadata": {
        "colab": {
          "base_uri": "https://localhost:8080/"
        },
        "id": "VbbdVaponm1H",
        "outputId": "d3cc05c6-25c7-4358-db45-d3c07b69017b"
      },
      "outputs": [
        {
          "data": {
            "text/plain": [
              "(28, 28, 784, 10, 1)"
            ]
          },
          "execution_count": 41,
          "metadata": {},
          "output_type": "execute_result"
        }
      ],
      "source": [
        "# 비정형데이터(이미지) => 필요한 상수\n",
        "_, PIXEL_H, PIXEL_W = X_train.shape # 높이, 너비 값 획득\n",
        "# 총픽셀수 -> 총피처수\n",
        "PIXELS = PIXEL_H * PIXEL_W\n",
        "# 정답의 개수\n",
        "LABEL_NUM = len(np.unique( y_train))\n",
        "# 원본이미지의 채널수 (grayscale)\n",
        "INPUT_CHANNEL = 1\n",
        "\n",
        "PIXEL_H, PIXEL_W, PIXELS, LABEL_NUM, INPUT_CHANNEL"
      ]
    },
    {
      "cell_type": "markdown",
      "metadata": {
        "id": "JEXmdXgrourN"
      },
      "source": [
        "## 엔진별 지원 포멧에 맞게 데이터 조정(shape 조정)"
      ]
    },
    {
      "cell_type": "code",
      "execution_count": null,
      "metadata": {
        "colab": {
          "base_uri": "https://localhost:8080/"
        },
        "id": "r6VWrupno1a3",
        "outputId": "a9fe1a4c-0b93-4122-afdd-9de926b2f30b"
      },
      "outputs": [
        {
          "data": {
            "text/plain": [
              "((60000, 28, 28, 1), (10000, 28, 28, 1))"
            ]
          },
          "execution_count": 42,
          "metadata": {},
          "output_type": "execute_result"
        }
      ],
      "source": [
        "# fmt 값에 의해서 X_train, X_test shape을 조정하시오\n",
        "# 실습 3분\n",
        "if fmt == 'channels_last': # NHWC\n",
        "    X_train = X_train.reshape(-1, PIXEL_H, PIXEL_W, INPUT_CHANNEL)\n",
        "    X_test  = X_test.reshape(-1, PIXEL_H, PIXEL_W, INPUT_CHANNEL)\n",
        "    # 최초 합성곱층에서 입력층을 직접 연결할대 shape값 (높이, 너비, 채널수)\n",
        "    input_shape = (PIXEL_H, PIXEL_W, INPUT_CHANNEL)\n",
        "else: # NCHW\n",
        "    X_train = X_train.reshape(-1, INPUT_CHANNEL, PIXEL_H, PIXEL_W)\n",
        "    X_test  = X_test.reshape(-1, INPUT_CHANNEL, PIXEL_H, PIXEL_W)\n",
        "    input_shape = (INPUT_CHANNEL, PIXEL_H, PIXEL_W)\n",
        "\n",
        "X_train.shape, X_test.shape"
      ]
    },
    {
      "cell_type": "markdown",
      "metadata": {
        "id": "vxZpG7SzqWlM"
      },
      "source": [
        "- 픽셀값 : 0.0 ~ 1.0\n",
        "- shape 형태 조정 완료"
      ]
    },
    {
      "cell_type": "markdown",
      "metadata": {
        "id": "eTq58zwmqeVE"
      },
      "source": [
        "## 정답 데이터 조정"
      ]
    },
    {
      "cell_type": "code",
      "execution_count": null,
      "metadata": {
        "colab": {
          "base_uri": "https://localhost:8080/"
        },
        "id": "SvuGxreLqgky",
        "outputId": "8542d640-9fdb-4b90-fa87-a67ac3383dd8"
      },
      "outputs": [
        {
          "data": {
            "text/plain": [
              "array([0, 1, 2, 3, 4, 5, 6, 7, 8, 9], dtype=uint8)"
            ]
          },
          "execution_count": 43,
          "metadata": {},
          "output_type": "execute_result"
        }
      ],
      "source": [
        "# 0 ~ 9\n",
        "# 머신러닝 관점에서는 이웃한 데이터를 더 가깝게 느낀다 -> 단순히 기호를 분류를해는 과정 -> 원-핫처리\n",
        "np.unique( y_train)"
      ]
    },
    {
      "cell_type": "code",
      "execution_count": null,
      "metadata": {
        "id": "oSAesj3vqwLo"
      },
      "outputs": [],
      "source": [
        "y_train = keras.utils.to_categorical( y_train, LABEL_NUM )\n",
        "y_test  = keras.utils.to_categorical( y_test, LABEL_NUM )\n",
        "\n",
        "# 공간을 더 차지하지만, 학습적 이득이 더 많다"
      ]
    },
    {
      "cell_type": "code",
      "execution_count": null,
      "metadata": {
        "colab": {
          "base_uri": "https://localhost:8080/"
        },
        "id": "jJE2wvLLrJY6",
        "outputId": "cf6da98b-087e-4025-8ea4-09c0a06825b4"
      },
      "outputs": [
        {
          "data": {
            "text/plain": [
              "((60000, 10), (10000, 10))"
            ]
          },
          "execution_count": 45,
          "metadata": {},
          "output_type": "execute_result"
        }
      ],
      "source": [
        "y_train.shape, y_test.shape"
      ]
    },
    {
      "cell_type": "markdown",
      "metadata": {
        "id": "6tDmBXiWrUsD"
      },
      "source": [
        "## 인공신경망 구축 (CNN 기반)"
      ]
    },
    {
      "cell_type": "markdown",
      "metadata": {
        "id": "8lsnJiqvrdqf"
      },
      "source": [
        "```\n",
        "- 입력층\n",
        "- 은닉층\n",
        "    - 합성곱층 1f : 1채널 -> 32채널확장(설정값), 패딩옵션 same -> 크기 28로 유지\n",
        "    - 풀링층 1f : 이미지 크기를 절반 축소(28->14), 스트라이드 2, 패딩 same\n",
        "    - 드롭아웃층\n",
        "    - 합성곱층 2f : 32채널 -> 64채널확장(설정값), 패딩옵션 same -> 크기 14로 유지\n",
        "    - 풀링층 2f : 이미지 크기를 절반 축소(14->7), 스트라이드 2, 패딩 same\n",
        "    - 드롭아웃층\n",
        "    - 전결합층 : 4D -> 2D로 조정, 피처수를 1024로 수렴( 설정값) : 7*7*64 -> 1024\n",
        "    - 드롭아웃층\n",
        "- 출력층 : 1024 -> 10 개로 수렴\n",
        "```\n",
        "\n",
        "```\n",
        "shape 설계, 층 설계\n",
        "\n",
        "- input\n",
        "    (None, 28, 28, 1)\n",
        "- conv 1f\n",
        "    (None, 28, 28, 32)\n",
        "- pool 1f max\n",
        "    (None, 14, 14, 32)\n",
        "- conv 2f\n",
        "    (None, 14, 14, 64)\n",
        "- pool 2f max\n",
        "    (None, 7, 7, 64)\n",
        "- flattern\n",
        "    (None, 7 * 7 * 64)\n",
        "- fully connected layer\n",
        "    (None, 1024)\n",
        "- output\n",
        "    (None, 10)\n",
        "```"
      ]
    },
    {
      "cell_type": "code",
      "execution_count": null,
      "metadata": {
        "id": "TOz7jkait7Ax"
      },
      "outputs": [],
      "source": [
        "from tensorflow.keras import models, layers"
      ]
    },
    {
      "cell_type": "code",
      "execution_count": null,
      "metadata": {
        "id": "BYZkW5kpunfh"
      },
      "outputs": [],
      "source": [
        "model = models.Sequential()"
      ]
    },
    {
      "cell_type": "code",
      "execution_count": null,
      "metadata": {
        "id": "nCu3EfzHu3UV"
      },
      "outputs": [],
      "source": [
        "# 합성곱층\n",
        "'''\n",
        "- filters                       # 출력 채널수를 지정, 원본이미지가 합성곱을 통과할때\n",
        "                                # 출력 채널수만큼 데이터가 증가\n",
        "                                # 설정값 32\n",
        "- kernel_size                   # 커널(필터)가 원본 이미지상을 이동하면서 공간정보 추출\n",
        "                                # 원본이미지상에 얼마나 겹쳐서 추출 => 크기 필요, 정방행렬\n",
        "                                # 설정값 (5,5)\n",
        "- strides=(1, 1)                # 커널이 원본이미지를 슬라이딩하면 이동할대 이동량 (좌우,상하)\n",
        "                                # 통상 동일값 부여\n",
        "                                # 기본값 (1,1)\n",
        "- padding='valid'               # 커널이 이미지의 경계선에 도달할때 이동량, 크기 때문에 진입\n",
        "                                # 않되는 경우 보정\n",
        "                                # 설정값 : same, 원본과 동일하게 구성하는것을 목표\n",
        "- data_format=None,             # 'channel_last',...\n",
        "- activation=None,              # 활성화 함수, relu(0보다 작으면 0, 양수면 원래값그대로 사용)설정\n",
        "- use_bias=True,                # 편향 사용, 기본값 유지\n",
        "- ...\n",
        "- **kwargs                      # 업그레이드용, 추가 파라미터용도\n",
        "'''\n",
        "model.add( layers.Conv2D(\n",
        "    filters     = 32,\n",
        "    kernel_size = (5,5),\n",
        "    strides     = (1, 1),\n",
        "    padding     = 'same',\n",
        "    activation  = 'relu', # 가중치*원본이미지(커널사이즈) => 행렬곱\n",
        "                          # => 음수가 나올수도 있음 => 음수=>0으로처리, 양수는 원래값\n",
        "    use_bias    = True,\n",
        "    input_shape = input_shape   # input_shape을 사용, 입력층 연결의 흔적, 첫번째 conv에서만 등장\n",
        "))\n",
        "# 내부적으로는 y = Wx + b를 기반으로 연결한다 -> low level 적"
      ]
    },
    {
      "cell_type": "code",
      "execution_count": null,
      "metadata": {
        "id": "oz1ILsFIu3XA"
      },
      "outputs": [],
      "source": [
        "# 풀링층(최대)\n",
        "'''\n",
        "- pool_size=(2, 2)  # 커널의 크기 -> 원봄상에 커널을 위치시켜서\n",
        "                    # 해당위치와 겹치는 데이터만대상 -> 최대값 추출\n",
        "- strides=None      # 커널의 이동량, None이면 커널크기와동일, 2칸식이동\n",
        "- padding='valid'   # 합성곱과 동일\n",
        "'''\n",
        "model.add( layers.MaxPool2D(\n",
        "    pool_size   = (2,2),\n",
        "    strides     = None,\n",
        "    padding     = 'same' # 28 -> 14\n",
        ") )"
      ]
    },
    {
      "cell_type": "code",
      "execution_count": null,
      "metadata": {
        "colab": {
          "base_uri": "https://localhost:8080/"
        },
        "id": "8SyMnACjuv-O",
        "outputId": "01395803-ede7-43ea-d1d3-1b11d4619dc6"
      },
      "outputs": [
        {
          "name": "stdout",
          "output_type": "stream",
          "text": [
            "Model: \"sequential_1\"\n",
            "_________________________________________________________________\n",
            " Layer (type)                Output Shape              Param #   \n",
            "=================================================================\n",
            " conv2d_2 (Conv2D)           (None, 28, 28, 32)        832       \n",
            "                                                                 \n",
            " max_pooling2d_2 (MaxPoolin  (None, 14, 14, 32)        0         \n",
            " g2D)                                                            \n",
            "                                                                 \n",
            " dropout_3 (Dropout)         (None, 14, 14, 32)        0         \n",
            "                                                                 \n",
            " conv2d_3 (Conv2D)           (None, 14, 14, 64)        51264     \n",
            "                                                                 \n",
            " max_pooling2d_3 (MaxPoolin  (None, 7, 7, 64)          0         \n",
            " g2D)                                                            \n",
            "                                                                 \n",
            " dropout_4 (Dropout)         (None, 7, 7, 64)          0         \n",
            "                                                                 \n",
            " flatten_1 (Flatten)         (None, 3136)              0         \n",
            "                                                                 \n",
            " dense_2 (Dense)             (None, 1024)              3212288   \n",
            "                                                                 \n",
            " dropout_5 (Dropout)         (None, 1024)              0         \n",
            "                                                                 \n",
            " dense_3 (Dense)             (None, 10)                10250     \n",
            "                                                                 \n",
            "=================================================================\n",
            "Total params: 3274634 (12.49 MB)\n",
            "Trainable params: 3274634 (12.49 MB)\n",
            "Non-trainable params: 0 (0.00 Byte)\n",
            "_________________________________________________________________\n"
          ]
        }
      ],
      "source": [
        "model.add( layers.Dropout(0.1) ) # 드롭아웃\n",
        "# 실습 1분 합성곱층, 최대풀링층 2f 구성\n",
        "model.add( layers.Conv2D(64, (5,5), padding='same', activation='relu') ) # 합성곱층\n",
        "model.add( layers.MaxPool2D(padding = 'same') ) # 최대풀링층 17->7\n",
        "model.add( layers.Dropout(0.1) )    # 드롭아웃 => 0.1\n",
        "model.add( layers.Flatten() )       # flattern() 4D->2D\n",
        "model.add( layers.Dense( 1024, activation='relu') ) # 전결합층\n",
        "model.add( layers.Dropout(0.1) ) # 드롭아웃\n",
        "model.add( layers.Dense( LABEL_NUM, activation='softmax')) # 출력층, 10개로 수렴\n",
        "\n",
        "model.summary()"
      ]
    },
    {
      "cell_type": "markdown",
      "metadata": {
        "id": "e6eUEFn639dC"
      },
      "source": [
        "- 파라미터 계산\n",
        "\n",
        "```\n",
        "    - 파라미터 832를 도출하시오(계산식) 실습 1분\n",
        "    - 파라미터는 w(가중치가 매개변수로가지고 있음), b\n",
        "    - 832 = (5 x 5) X 32 + 32\n",
        "    - QnA\n",
        "    - 51264 =\n",
        "    - 3212288 =\n",
        "    - 10250 =\n",
        "    \n",
        "```"
      ]
    },
    {
      "cell_type": "code",
      "execution_count": null,
      "metadata": {
        "colab": {
          "base_uri": "https://localhost:8080/"
        },
        "id": "zQMNMJvP4usw",
        "outputId": "52325e31-8cf4-49ff-e031-aed29bbae0d4"
      },
      "outputs": [
        {
          "data": {
            "text/plain": [
              "832"
            ]
          },
          "execution_count": 51,
          "metadata": {},
          "output_type": "execute_result"
        }
      ],
      "source": [
        "5 * 5 * 32 + 32"
      ]
    },
    {
      "cell_type": "markdown",
      "metadata": {
        "id": "0bOUqZ9U5D-U"
      },
      "source": [
        "## 학습에 필요한 컴파일 환경 세팅"
      ]
    },
    {
      "cell_type": "code",
      "execution_count": null,
      "metadata": {
        "id": "-MMcU9hB5Hde"
      },
      "outputs": [],
      "source": [
        "model.compile(optimizer='adam',\n",
        "              loss     = keras.losses.categorical_crossentropy,\n",
        "              metrics  =['accuracy'])"
      ]
    },
    {
      "cell_type": "markdown",
      "metadata": {
        "id": "9BZ6U7H_5pmX"
      },
      "source": [
        "## 학습 (미니배치학습)"
      ]
    },
    {
      "cell_type": "code",
      "execution_count": null,
      "metadata": {
        "id": "oeWg-udn5rYU"
      },
      "outputs": [],
      "source": [
        "# 학습에 필요한 상수, 변수 지정\n",
        "EPOCH  = 10 # 전체 데이터 10회 풀로 반복\n",
        "BATCH_SIZE = 128 # 1회 학습시 사용되는 학습량 -> 조정가능\n",
        "IS_GPU = True # False"
      ]
    },
    {
      "cell_type": "code",
      "execution_count": null,
      "metadata": {
        "id": "n6lgclzQ6KA7"
      },
      "outputs": [],
      "source": [
        "from tensorflow.keras.callbacks import EarlyStopping, ModelCheckpoint, TensorBoard\n",
        "def train():\n",
        "\n",
        "    cus_callbacks = [\n",
        "        # 조기학습 종료\n",
        "        # 조기학습종료이벤트가 발동 => 2회 더 진행 => 변화없으면 종료\n",
        "        EarlyStopping( patience=2 ),\n",
        "        # 모델 저장(성능이 개선될때 진행)\n",
        "        ModelCheckpoint( filepath='model.{epoch}-{val_loss:2f}.h5'),\n",
        "        # 시각화용 텐서보드용 로그 저장 (구글 드라이브 특정위치 권장)\n",
        "        TensorBoard(log_dir='./logs')\n",
        "    ]\n",
        "    # 학습 로그 출력\n",
        "    return model.fit(X_train, y_train,\n",
        "              batch_size=BATCH_SIZE, epochs=EPOCH,\n",
        "              callbacks=cus_callbacks, validation_split=0.2 #조기학습종료, 20%를 검증용 사용\n",
        "              )\n",
        "    pass"
      ]
    },
    {
      "cell_type": "code",
      "execution_count": null,
      "metadata": {
        "colab": {
          "base_uri": "https://localhost:8080/"
        },
        "id": "B5pKGGG16OmS",
        "outputId": "30bd8346-a8d6-4a01-cbce-bf19f73cb0d6"
      },
      "outputs": [
        {
          "name": "stdout",
          "output_type": "stream",
          "text": [
            "Epoch 1/10\n",
            "375/375 [==============================] - 5s 9ms/step - loss: 0.1671 - accuracy: 0.9474 - val_loss: 0.0522 - val_accuracy: 0.9852\n",
            "Epoch 2/10\n",
            " 17/375 [>.............................] - ETA: 2s - loss: 0.0462 - accuracy: 0.9867"
          ]
        },
        {
          "name": "stderr",
          "output_type": "stream",
          "text": [
            "/usr/local/lib/python3.10/dist-packages/keras/src/engine/training.py:3103: UserWarning: You are saving your model as an HDF5 file via `model.save()`. This file format is considered legacy. We recommend using instead the native Keras format, e.g. `model.save('my_model.keras')`.\n",
            "  saving_api.save_model(\n"
          ]
        },
        {
          "name": "stdout",
          "output_type": "stream",
          "text": [
            "375/375 [==============================] - 3s 8ms/step - loss: 0.0481 - accuracy: 0.9854 - val_loss: 0.0390 - val_accuracy: 0.9884\n",
            "Epoch 3/10\n",
            "375/375 [==============================] - 4s 10ms/step - loss: 0.0331 - accuracy: 0.9897 - val_loss: 0.0360 - val_accuracy: 0.9883\n",
            "Epoch 4/10\n",
            "375/375 [==============================] - 3s 8ms/step - loss: 0.0251 - accuracy: 0.9919 - val_loss: 0.0347 - val_accuracy: 0.9900\n",
            "Epoch 5/10\n",
            "375/375 [==============================] - 3s 8ms/step - loss: 0.0190 - accuracy: 0.9935 - val_loss: 0.0357 - val_accuracy: 0.9903\n",
            "Epoch 6/10\n",
            "375/375 [==============================] - 3s 8ms/step - loss: 0.0164 - accuracy: 0.9945 - val_loss: 0.0331 - val_accuracy: 0.9908\n",
            "Epoch 7/10\n",
            "375/375 [==============================] - 4s 10ms/step - loss: 0.0140 - accuracy: 0.9954 - val_loss: 0.0343 - val_accuracy: 0.9913\n",
            "Epoch 8/10\n",
            "375/375 [==============================] - 3s 8ms/step - loss: 0.0120 - accuracy: 0.9958 - val_loss: 0.0377 - val_accuracy: 0.9893\n",
            "CPU times: user 25.9 s, sys: 2.09 s, total: 28 s\n",
            "Wall time: 27.6 s\n"
          ]
        }
      ],
      "source": [
        "%%time\n",
        "if IS_GPU:\n",
        "    with tf.device('/device:GPU:0'): # 1대만 존재, 여러대중 한대만 사용하는 경우\n",
        "        history = train()\n",
        "else: # cpu\n",
        "    print( 'cpu 실행' )\n",
        "    history = train()"
      ]
    },
    {
      "cell_type": "code",
      "execution_count": null,
      "metadata": {
        "colab": {
          "base_uri": "https://localhost:8080/"
        },
        "id": "sqsLhhLSBL7H",
        "outputId": "879a31a7-7e24-4a2d-96fc-181d7740a4b4"
      },
      "outputs": [
        {
          "data": {
            "text/plain": [
              "71.42857142857143"
            ]
          },
          "execution_count": 56,
          "metadata": {},
          "output_type": "execute_result"
        }
      ],
      "source": [
        "# 현재 GPU 대비 CPU의 학습 시간 속도 비율 -> 71배 (일반적이지는 않지만 더 빨리 마무리된다)\n",
        "(150*10)/(3*7)"
      ]
    },
    {
      "cell_type": "code",
      "execution_count": null,
      "metadata": {
        "colab": {
          "base_uri": "https://localhost:8080/",
          "height": 449
        },
        "id": "H5it4LLhBefd",
        "outputId": "934d6fba-1fea-4219-9f5f-666ca9924328"
      },
      "outputs": [
        {
          "data": {
            "image/png": "[encoded data removed]",
            "text/plain": [
              "<Figure size 640x480 with 2 Axes>"
            ]
          },
          "metadata": {},
          "output_type": "display_data"
        }
      ],
      "source": [
        "import matplotlib.pyplot as plt\n",
        "\n",
        "_, ax = plt.subplots()\n",
        "\n",
        "acc_ax = ax.twinx()\n",
        "\n",
        "# 손실\n",
        "ax.plot(     history.history['loss'], 'r', label='loss')\n",
        "# 정확도\n",
        "acc_ax.plot( history.history['accuracy'], 'b', label='acc')\n",
        "\n",
        "# 축이름\n",
        "ax.set_xlabel('epoch')\n",
        "ax.set_ylabel('loss')\n",
        "acc_ax.set_ylabel('acc')\n",
        "\n",
        "plt.show()\n",
        "\n",
        "# 인공신경망 구성은 데이터에 적합하게 구성 -> 학습 -> 결과가 잘 나옴"
      ]
    },
    {
      "cell_type": "markdown",
      "metadata": {
        "id": "BjlTB5NwCN2K"
      },
      "source": [
        "## 테스트 데이터를 이용한 예측"
      ]
    },
    {
      "cell_type": "code",
      "execution_count": null,
      "metadata": {
        "colab": {
          "base_uri": "https://localhost:8080/"
        },
        "id": "HQxaWP2bBfbQ",
        "outputId": "c2a9ec7d-83b4-4423-bfa2-5f67cdb837a2"
      },
      "outputs": [
        {
          "name": "stdout",
          "output_type": "stream",
          "text": [
            "313/313 [==============================] - 1s 3ms/step - loss: 0.0367 - accuracy: 0.9888\n"
          ]
        },
        {
          "data": {
            "text/plain": [
              "[0.03667498007416725, 0.9887999892234802]"
            ]
          },
          "execution_count": 59,
          "metadata": {},
          "output_type": "execute_result"
        }
      ],
      "source": [
        "model.evaluate( X_test, y_test )"
      ]
    },
    {
      "cell_type": "markdown",
      "metadata": {
        "id": "SacWbWfCRXge"
      },
      "source": [
        "# 시스템구축(사용라이브러리,모델덤프)"
      ]
    },
    {
      "cell_type": "markdown",
      "metadata": {
        "id": "xgbDb0K7CgT5"
      },
      "source": [
        "## 모델 저장(덤프), 로드, 테스팅"
      ]
    },
    {
      "cell_type": "code",
      "execution_count": null,
      "metadata": {
        "colab": {
          "base_uri": "https://localhost:8080/"
        },
        "id": "1lAHM8DmCtAh",
        "outputId": "c5f41d2d-1187-4177-bf07-e18057742812"
      },
      "outputs": [
        {
          "name": "stderr",
          "output_type": "stream",
          "text": [
            "/usr/local/lib/python3.10/dist-packages/keras/src/engine/training.py:3103: UserWarning: You are saving your model as an HDF5 file via `model.save()`. This file format is considered legacy. We recommend using instead the native Keras format, e.g. `model.save('my_model.keras')`.\n",
            "  saving_api.save_model(\n"
          ]
        }
      ],
      "source": [
        "# 저장\n",
        "model.save('mnist_clf_keras.h5')"
      ]
    },
    {
      "cell_type": "code",
      "execution_count": null,
      "metadata": {
        "id": "-lpUfH-vC1D2"
      },
      "outputs": [],
      "source": [
        "# 로드\n",
        "# 테스트용, 실제 서비스용(웹, 앱), 특정데이터를 분석용도 -> 데이터를 구축(피처 제작용도)\n",
        "# 텐서플로우 버전 일치(중요)\n",
        "loaded_model = models.load_model('mnist_clf_keras.h5')"
      ]
    },
    {
      "cell_type": "markdown",
      "metadata": {
        "id": "bvPTBMxt4xnq"
      },
      "source": [
        "- 위에서 학습한 모델 => 사전학습된 모델로 간주\n",
        "- 차후 추가 학습시\n",
        "    - 기존 모델을 저장한 파일\n",
        "    - 로드\n",
        "    - 로드된 모델.fit() -> 학습 성능을향상 -> 저장"
      ]
    },
    {
      "cell_type": "code",
      "execution_count": null,
      "metadata": {
        "colab": {
          "base_uri": "https://localhost:8080/"
        },
        "id": "HfjsHkPoDr1z",
        "outputId": "893532d5-8588-4fb1-a3e4-7f44adc018e0"
      },
      "outputs": [
        {
          "name": "stdout",
          "output_type": "stream",
          "text": [
            "313/313 [==============================] - 1s 3ms/step - loss: 0.0367 - accuracy: 0.9888\n"
          ]
        },
        {
          "data": {
            "text/plain": [
              "[0.03667498007416725, 0.9887999892234802]"
            ]
          },
          "execution_count": 62,
          "metadata": {},
          "output_type": "execute_result"
        }
      ],
      "source": [
        "loaded_model.evaluate( X_test, y_test )\n",
        "\n",
        "# 토치모델->텐서모델 마이그레이션 => 정보손실일부 발생할수 있음(가중치 손실)\n",
        "# 저장된모델:[0.03667498007416725, 0.9887999892234802]\n",
        "# 로드한모델:[0.03667498007416725, 0.9887999892234802]"
      ]
    },
    {
      "cell_type": "markdown",
      "metadata": {
        "id": "KqIw6e4uEMo4"
      },
      "source": [
        "## 모델 정보 시각화"
      ]
    },
    {
      "cell_type": "code",
      "execution_count": null,
      "metadata": {
        "colab": {
          "base_uri": "https://localhost:8080/",
          "height": 1000
        },
        "id": "ipjPFPlsDyVR",
        "outputId": "8cf9fddc-ccad-4d01-9e42-b3b717654a93"
      },
      "outputs": [
        {
          "data": {
            "image/png": "[encoded data removed]",
            "text/plain": [
              "<IPython.core.display.Image object>"
            ]
          },
          "execution_count": 63,
          "metadata": {},
          "output_type": "execute_result"
        }
      ],
      "source": [
        "# 인공신경망 요약표 => 시각적 확인\n",
        "keras.utils.plot_model(loaded_model, to_file='model.png', show_shapes=True,\n",
        "                       show_layer_names=True, show_trainable=True)\n",
        "# 훈련가능여부, 레이어 이름, 레이어당 입력shape/출력shape 확인"
      ]
    },
    {
      "cell_type": "markdown",
      "metadata": {
        "id": "dObAyVnIFLk7"
      },
      "source": [
        "## 가중치만 저장"
      ]
    },
    {
      "cell_type": "code",
      "execution_count": null,
      "metadata": {
        "id": "MfSq_6kSE1BX"
      },
      "outputs": [],
      "source": [
        "model.save_weights('mnist_clf_keras.weight')"
      ]
    },
    {
      "cell_type": "code",
      "execution_count": null,
      "metadata": {
        "id": "JXbrhd0jFXsE"
      },
      "outputs": [],
      "source": []
    }
  ],
  "metadata": {
    "colab": {
      "provenance": []
    },
    "kernelspec": {
      "display_name": "Python 3",
      "name": "python3"
    },
    "language_info": {
      "name": "python"
    }
  },
  "nbformat": 4,
  "nbformat_minor": 0
}
